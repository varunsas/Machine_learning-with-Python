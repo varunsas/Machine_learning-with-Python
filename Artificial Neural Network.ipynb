{
 "cells": [
  {
   "cell_type": "markdown",
   "metadata": {},
   "source": [
    "### Data Preprocessing"
   ]
  },
  {
   "cell_type": "code",
   "execution_count": 77,
   "metadata": {},
   "outputs": [],
   "source": [
    "import pandas as pd\n",
    "import numpy as np\n",
    "import matplotlib.pyplot as plt\n",
    "%matplotlib inline"
   ]
  },
  {
   "cell_type": "code",
   "execution_count": 78,
   "metadata": {},
   "outputs": [],
   "source": [
    "df= pd.read_csv('C:\\\\Users\\\\HP\\\\Downloads\\\\Python ML\\\\Artificial Neural Network\\\\Churn_Modelling.csv')"
   ]
  },
  {
   "cell_type": "code",
   "execution_count": 79,
   "metadata": {},
   "outputs": [
    {
     "data": {
      "text/plain": [
       "(10000, 14)"
      ]
     },
     "execution_count": 79,
     "metadata": {},
     "output_type": "execute_result"
    }
   ],
   "source": [
    "df.shape"
   ]
  },
  {
   "cell_type": "code",
   "execution_count": 80,
   "metadata": {},
   "outputs": [
    {
     "data": {
      "text/plain": [
       "Index(['RowNumber', 'CustomerId', 'Surname', 'CreditScore', 'Geography',\n",
       "       'Gender', 'Age', 'Tenure', 'Balance', 'NumOfProducts', 'HasCrCard',\n",
       "       'IsActiveMember', 'EstimatedSalary', 'Exited'],\n",
       "      dtype='object')"
      ]
     },
     "execution_count": 80,
     "metadata": {},
     "output_type": "execute_result"
    }
   ],
   "source": [
    "df.columns"
   ]
  },
  {
   "cell_type": "code",
   "execution_count": 81,
   "metadata": {},
   "outputs": [
    {
     "data": {
      "text/html": [
       "<div>\n",
       "<style scoped>\n",
       "    .dataframe tbody tr th:only-of-type {\n",
       "        vertical-align: middle;\n",
       "    }\n",
       "\n",
       "    .dataframe tbody tr th {\n",
       "        vertical-align: top;\n",
       "    }\n",
       "\n",
       "    .dataframe thead th {\n",
       "        text-align: right;\n",
       "    }\n",
       "</style>\n",
       "<table border=\"1\" class=\"dataframe\">\n",
       "  <thead>\n",
       "    <tr style=\"text-align: right;\">\n",
       "      <th></th>\n",
       "      <th>RowNumber</th>\n",
       "      <th>CustomerId</th>\n",
       "      <th>Surname</th>\n",
       "      <th>CreditScore</th>\n",
       "      <th>Geography</th>\n",
       "      <th>Gender</th>\n",
       "      <th>Age</th>\n",
       "      <th>Tenure</th>\n",
       "      <th>Balance</th>\n",
       "      <th>NumOfProducts</th>\n",
       "      <th>HasCrCard</th>\n",
       "      <th>IsActiveMember</th>\n",
       "      <th>EstimatedSalary</th>\n",
       "      <th>Exited</th>\n",
       "    </tr>\n",
       "  </thead>\n",
       "  <tbody>\n",
       "    <tr>\n",
       "      <th>0</th>\n",
       "      <td>1</td>\n",
       "      <td>15634602</td>\n",
       "      <td>Hargrave</td>\n",
       "      <td>619</td>\n",
       "      <td>France</td>\n",
       "      <td>Female</td>\n",
       "      <td>42</td>\n",
       "      <td>2</td>\n",
       "      <td>0.00</td>\n",
       "      <td>1</td>\n",
       "      <td>1</td>\n",
       "      <td>1</td>\n",
       "      <td>101348.88</td>\n",
       "      <td>1</td>\n",
       "    </tr>\n",
       "    <tr>\n",
       "      <th>1</th>\n",
       "      <td>2</td>\n",
       "      <td>15647311</td>\n",
       "      <td>Hill</td>\n",
       "      <td>608</td>\n",
       "      <td>Spain</td>\n",
       "      <td>Female</td>\n",
       "      <td>41</td>\n",
       "      <td>1</td>\n",
       "      <td>83807.86</td>\n",
       "      <td>1</td>\n",
       "      <td>0</td>\n",
       "      <td>1</td>\n",
       "      <td>112542.58</td>\n",
       "      <td>0</td>\n",
       "    </tr>\n",
       "    <tr>\n",
       "      <th>2</th>\n",
       "      <td>3</td>\n",
       "      <td>15619304</td>\n",
       "      <td>Onio</td>\n",
       "      <td>502</td>\n",
       "      <td>France</td>\n",
       "      <td>Female</td>\n",
       "      <td>42</td>\n",
       "      <td>8</td>\n",
       "      <td>159660.80</td>\n",
       "      <td>3</td>\n",
       "      <td>1</td>\n",
       "      <td>0</td>\n",
       "      <td>113931.57</td>\n",
       "      <td>1</td>\n",
       "    </tr>\n",
       "    <tr>\n",
       "      <th>3</th>\n",
       "      <td>4</td>\n",
       "      <td>15701354</td>\n",
       "      <td>Boni</td>\n",
       "      <td>699</td>\n",
       "      <td>France</td>\n",
       "      <td>Female</td>\n",
       "      <td>39</td>\n",
       "      <td>1</td>\n",
       "      <td>0.00</td>\n",
       "      <td>2</td>\n",
       "      <td>0</td>\n",
       "      <td>0</td>\n",
       "      <td>93826.63</td>\n",
       "      <td>0</td>\n",
       "    </tr>\n",
       "    <tr>\n",
       "      <th>4</th>\n",
       "      <td>5</td>\n",
       "      <td>15737888</td>\n",
       "      <td>Mitchell</td>\n",
       "      <td>850</td>\n",
       "      <td>Spain</td>\n",
       "      <td>Female</td>\n",
       "      <td>43</td>\n",
       "      <td>2</td>\n",
       "      <td>125510.82</td>\n",
       "      <td>1</td>\n",
       "      <td>1</td>\n",
       "      <td>1</td>\n",
       "      <td>79084.10</td>\n",
       "      <td>0</td>\n",
       "    </tr>\n",
       "  </tbody>\n",
       "</table>\n",
       "</div>"
      ],
      "text/plain": [
       "   RowNumber  CustomerId   Surname  CreditScore Geography  Gender  Age  \\\n",
       "0          1    15634602  Hargrave          619    France  Female   42   \n",
       "1          2    15647311      Hill          608     Spain  Female   41   \n",
       "2          3    15619304      Onio          502    France  Female   42   \n",
       "3          4    15701354      Boni          699    France  Female   39   \n",
       "4          5    15737888  Mitchell          850     Spain  Female   43   \n",
       "\n",
       "   Tenure    Balance  NumOfProducts  HasCrCard  IsActiveMember  \\\n",
       "0       2       0.00              1          1               1   \n",
       "1       1   83807.86              1          0               1   \n",
       "2       8  159660.80              3          1               0   \n",
       "3       1       0.00              2          0               0   \n",
       "4       2  125510.82              1          1               1   \n",
       "\n",
       "   EstimatedSalary  Exited  \n",
       "0        101348.88       1  \n",
       "1        112542.58       0  \n",
       "2        113931.57       1  \n",
       "3         93826.63       0  \n",
       "4         79084.10       0  "
      ]
     },
     "execution_count": 81,
     "metadata": {},
     "output_type": "execute_result"
    }
   ],
   "source": [
    "df.head()"
   ]
  },
  {
   "cell_type": "code",
   "execution_count": 82,
   "metadata": {},
   "outputs": [],
   "source": [
    "X= df.iloc[:,3:-1].values\n",
    "y= df.iloc[:,-1].values"
   ]
  },
  {
   "cell_type": "code",
   "execution_count": 83,
   "metadata": {},
   "outputs": [
    {
     "data": {
      "text/plain": [
       "array([[619, 'France', 'Female', 42, 2, 0.0, 1, 1, 1, 101348.88],\n",
       "       [608, 'Spain', 'Female', 41, 1, 83807.86, 1, 0, 1, 112542.58],\n",
       "       [502, 'France', 'Female', 42, 8, 159660.8, 3, 1, 0, 113931.57],\n",
       "       [699, 'France', 'Female', 39, 1, 0.0, 2, 0, 0, 93826.63],\n",
       "       [850, 'Spain', 'Female', 43, 2, 125510.82, 1, 1, 1, 79084.1]],\n",
       "      dtype=object)"
      ]
     },
     "execution_count": 83,
     "metadata": {},
     "output_type": "execute_result"
    }
   ],
   "source": [
    "X[:5,:]"
   ]
  },
  {
   "cell_type": "code",
   "execution_count": 84,
   "metadata": {},
   "outputs": [
    {
     "data": {
      "text/plain": [
       "array([1, 0, 1, ..., 1, 1, 0], dtype=int64)"
      ]
     },
     "execution_count": 84,
     "metadata": {},
     "output_type": "execute_result"
    }
   ],
   "source": [
    "y"
   ]
  },
  {
   "cell_type": "code",
   "execution_count": 85,
   "metadata": {},
   "outputs": [
    {
     "name": "stderr",
     "output_type": "stream",
     "text": [
      "E:\\Anaconda\\lib\\site-packages\\sklearn\\preprocessing\\_encoders.py:415: FutureWarning: The handling of integer data will change in version 0.22. Currently, the categories are determined based on the range [0, max(values)], while in the future they will be determined based on the unique values.\n",
      "If you want the future behaviour and silence this warning, you can specify \"categories='auto'\".\n",
      "In case you used a LabelEncoder before this OneHotEncoder to convert the categories to integers, then you can now use the OneHotEncoder directly.\n",
      "  warnings.warn(msg, FutureWarning)\n",
      "E:\\Anaconda\\lib\\site-packages\\sklearn\\preprocessing\\_encoders.py:451: DeprecationWarning: The 'categorical_features' keyword is deprecated in version 0.20 and will be removed in 0.22. You can use the ColumnTransformer instead.\n",
      "  \"use the ColumnTransformer instead.\", DeprecationWarning)\n"
     ]
    }
   ],
   "source": [
    "from sklearn.preprocessing import LabelEncoder,OneHotEncoder\n",
    "labelencoder_X_1= LabelEncoder()\n",
    "X[:,1]= labelencoder_X_1.fit_transform(X[:,1])\n",
    "\n",
    "labelencoder_X_2= LabelEncoder()\n",
    "X[:,2]= labelencoder_X_2.fit_transform(X[:,2])\n",
    "\n",
    "onehotencoder= OneHotEncoder(categorical_features= [1])\n",
    "X= onehotencoder.fit_transform(X).toarray()\n",
    "\n",
    "X= X[:,1:]"
   ]
  },
  {
   "cell_type": "code",
   "execution_count": 86,
   "metadata": {},
   "outputs": [],
   "source": [
    "from sklearn.model_selection import train_test_split\n",
    "X_train,X_test,y_train,y_test= train_test_split(X,y,test_size=.2, random_state=0)"
   ]
  },
  {
   "cell_type": "code",
   "execution_count": 108,
   "metadata": {},
   "outputs": [
    {
     "data": {
      "text/plain": [
       "array([0, 0, 0, ..., 0, 0, 1], dtype=int64)"
      ]
     },
     "execution_count": 108,
     "metadata": {},
     "output_type": "execute_result"
    }
   ],
   "source": [
    "y_train"
   ]
  },
  {
   "cell_type": "code",
   "execution_count": 87,
   "metadata": {},
   "outputs": [],
   "source": [
    "from sklearn.preprocessing import StandardScaler\n",
    "sc= StandardScaler()\n",
    "X_train= sc.fit_transform(X_train)\n",
    "X_test= sc.transform(X_test)"
   ]
  },
  {
   "cell_type": "code",
   "execution_count": 88,
   "metadata": {},
   "outputs": [
    {
     "data": {
      "text/plain": [
       "array([[-0.5698444 ,  1.74309049,  0.16958176, ...,  0.64259497,\n",
       "        -1.03227043,  1.10643166],\n",
       "       [ 1.75486502, -0.57369368, -2.30455945, ...,  0.64259497,\n",
       "         0.9687384 , -0.74866447],\n",
       "       [-0.5698444 , -0.57369368, -1.19119591, ...,  0.64259497,\n",
       "        -1.03227043,  1.48533467],\n",
       "       ...,\n",
       "       [-0.5698444 , -0.57369368,  0.9015152 , ...,  0.64259497,\n",
       "        -1.03227043,  1.41231994],\n",
       "       [-0.5698444 ,  1.74309049, -0.62420521, ...,  0.64259497,\n",
       "         0.9687384 ,  0.84432121],\n",
       "       [ 1.75486502, -0.57369368, -0.28401079, ...,  0.64259497,\n",
       "        -1.03227043,  0.32472465]])"
      ]
     },
     "execution_count": 88,
     "metadata": {},
     "output_type": "execute_result"
    }
   ],
   "source": [
    "X_train"
   ]
  },
  {
   "cell_type": "code",
   "execution_count": 89,
   "metadata": {},
   "outputs": [],
   "source": [
    "import keras\n",
    "from keras.models import Sequential\n",
    "from keras.layers import Dense"
   ]
  },
  {
   "cell_type": "markdown",
   "metadata": {},
   "source": [
    "### Initializing the ANN"
   ]
  },
  {
   "cell_type": "code",
   "execution_count": 90,
   "metadata": {},
   "outputs": [],
   "source": [
    "classifier= Sequential()"
   ]
  },
  {
   "cell_type": "markdown",
   "metadata": {},
   "source": [
    "### Adding the input layer and first Hidden layer"
   ]
  },
  {
   "cell_type": "code",
   "execution_count": 91,
   "metadata": {},
   "outputs": [
    {
     "name": "stderr",
     "output_type": "stream",
     "text": [
      "E:\\Anaconda\\lib\\site-packages\\ipykernel_launcher.py:1: UserWarning: Update your `Dense` call to the Keras 2 API: `Dense(activation=\"relu\", input_dim=11, units=6, kernel_initializer=\"uniform\")`\n",
      "  \"\"\"Entry point for launching an IPython kernel.\n"
     ]
    }
   ],
   "source": [
    "classifier.add(Dense(output_dim= 6, init='uniform',activation= 'relu',input_dim= 11))"
   ]
  },
  {
   "cell_type": "markdown",
   "metadata": {},
   "source": [
    "### Adding the second hidden layer"
   ]
  },
  {
   "cell_type": "code",
   "execution_count": 92,
   "metadata": {},
   "outputs": [
    {
     "name": "stderr",
     "output_type": "stream",
     "text": [
      "E:\\Anaconda\\lib\\site-packages\\ipykernel_launcher.py:1: UserWarning: Update your `Dense` call to the Keras 2 API: `Dense(activation=\"relu\", units=6, kernel_initializer=\"uniform\")`\n",
      "  \"\"\"Entry point for launching an IPython kernel.\n"
     ]
    }
   ],
   "source": [
    "classifier.add(Dense(output_dim= 6, init='uniform',activation= 'relu'))"
   ]
  },
  {
   "cell_type": "markdown",
   "metadata": {},
   "source": [
    "### Adding output layer"
   ]
  },
  {
   "cell_type": "code",
   "execution_count": 93,
   "metadata": {},
   "outputs": [
    {
     "name": "stderr",
     "output_type": "stream",
     "text": [
      "E:\\Anaconda\\lib\\site-packages\\ipykernel_launcher.py:1: UserWarning: Update your `Dense` call to the Keras 2 API: `Dense(activation=\"sigmoid\", units=1, kernel_initializer=\"uniform\")`\n",
      "  \"\"\"Entry point for launching an IPython kernel.\n"
     ]
    }
   ],
   "source": [
    "classifier.add(Dense(output_dim= 1, init='uniform',activation= 'sigmoid'))"
   ]
  },
  {
   "cell_type": "markdown",
   "metadata": {},
   "source": [
    "### Compiling the ANN"
   ]
  },
  {
   "cell_type": "code",
   "execution_count": 94,
   "metadata": {},
   "outputs": [],
   "source": [
    "classifier.compile(optimizer='adam',loss= 'binary_crossentropy',metrics=['accuracy'])"
   ]
  },
  {
   "cell_type": "markdown",
   "metadata": {},
   "source": [
    "### Making the predictions and evaluating the model"
   ]
  },
  {
   "cell_type": "code",
   "execution_count": 96,
   "metadata": {},
   "outputs": [
    {
     "name": "stdout",
     "output_type": "stream",
     "text": [
      "Epoch 1/100\n",
      " 640/8000 [=>............................] - ETA: 1s - loss: 0.3637 - accuracy: 0.8594"
     ]
    },
    {
     "name": "stderr",
     "output_type": "stream",
     "text": [
      "E:\\Anaconda\\lib\\site-packages\\ipykernel_launcher.py:1: UserWarning: The `nb_epoch` argument in `fit` has been renamed `epochs`.\n",
      "  \"\"\"Entry point for launching an IPython kernel.\n"
     ]
    },
    {
     "name": "stdout",
     "output_type": "stream",
     "text": [
      "8000/8000 [==============================] - 2s 222us/step - loss: 0.3447 - accuracy: 0.8604\n",
      "Epoch 2/100\n",
      "8000/8000 [==============================] - 2s 215us/step - loss: 0.3447 - accuracy: 0.8576\n",
      "Epoch 3/100\n",
      "8000/8000 [==============================] - 2s 232us/step - loss: 0.3442 - accuracy: 0.8601\n",
      "Epoch 4/100\n",
      "8000/8000 [==============================] - 2s 246us/step - loss: 0.3438 - accuracy: 0.8601\n",
      "Epoch 5/100\n",
      "8000/8000 [==============================] - 2s 214us/step - loss: 0.3441 - accuracy: 0.8614\n",
      "Epoch 6/100\n",
      "8000/8000 [==============================] - 2s 225us/step - loss: 0.3451 - accuracy: 0.8589\n",
      "Epoch 7/100\n",
      "8000/8000 [==============================] - 2s 216us/step - loss: 0.3431 - accuracy: 0.8596\n",
      "Epoch 8/100\n",
      "8000/8000 [==============================] - 2s 222us/step - loss: 0.3439 - accuracy: 0.8601\n",
      "Epoch 9/100\n",
      "8000/8000 [==============================] - 2s 228us/step - loss: 0.3435 - accuracy: 0.8591\n",
      "Epoch 10/100\n",
      "8000/8000 [==============================] - 2s 215us/step - loss: 0.3438 - accuracy: 0.8614\n",
      "Epoch 11/100\n",
      "8000/8000 [==============================] - 2s 245us/step - loss: 0.3448 - accuracy: 0.8611\n",
      "Epoch 12/100\n",
      "8000/8000 [==============================] - 2s 234us/step - loss: 0.3437 - accuracy: 0.8604\n",
      "Epoch 13/100\n",
      "8000/8000 [==============================] - 2s 208us/step - loss: 0.3443 - accuracy: 0.8593\n",
      "Epoch 14/100\n",
      "8000/8000 [==============================] - 2s 199us/step - loss: 0.3440 - accuracy: 0.8605\n",
      "Epoch 15/100\n",
      "8000/8000 [==============================] - 1s 181us/step - loss: 0.3443 - accuracy: 0.8577\n",
      "Epoch 16/100\n",
      "8000/8000 [==============================] - 1s 177us/step - loss: 0.3434 - accuracy: 0.8593\n",
      "Epoch 17/100\n",
      "8000/8000 [==============================] - 1s 184us/step - loss: 0.3434 - accuracy: 0.8595\n",
      "Epoch 18/100\n",
      "8000/8000 [==============================] - 2s 203us/step - loss: 0.3438 - accuracy: 0.8597\n",
      "Epoch 19/100\n",
      "8000/8000 [==============================] - 1s 168us/step - loss: 0.3434 - accuracy: 0.8610\n",
      "Epoch 20/100\n",
      "8000/8000 [==============================] - 1s 170us/step - loss: 0.3434 - accuracy: 0.8601\n",
      "Epoch 21/100\n",
      "8000/8000 [==============================] - 2s 204us/step - loss: 0.3434 - accuracy: 0.8585\n",
      "Epoch 22/100\n",
      "8000/8000 [==============================] - 1s 186us/step - loss: 0.3437 - accuracy: 0.8568\n",
      "Epoch 23/100\n",
      "8000/8000 [==============================] - 1s 173us/step - loss: 0.3426 - accuracy: 0.8597\n",
      "Epoch 24/100\n",
      "8000/8000 [==============================] - 1s 179us/step - loss: 0.3441 - accuracy: 0.8587\n",
      "Epoch 25/100\n",
      "8000/8000 [==============================] - 1s 163us/step - loss: 0.3428 - accuracy: 0.8611\n",
      "Epoch 26/100\n",
      "8000/8000 [==============================] - 1s 164us/step - loss: 0.3429 - accuracy: 0.8590\n",
      "Epoch 27/100\n",
      "8000/8000 [==============================] - 1s 163us/step - loss: 0.3427 - accuracy: 0.8591\n",
      "Epoch 28/100\n",
      "8000/8000 [==============================] - 1s 165us/step - loss: 0.3435 - accuracy: 0.8585\n",
      "Epoch 29/100\n",
      "8000/8000 [==============================] - 1s 168us/step - loss: 0.3435 - accuracy: 0.8597\n",
      "Epoch 30/100\n",
      "8000/8000 [==============================] - 1s 179us/step - loss: 0.3422 - accuracy: 0.8608\n",
      "Epoch 31/100\n",
      "8000/8000 [==============================] - 1s 179us/step - loss: 0.3423 - accuracy: 0.8593\n",
      "Epoch 32/100\n",
      "8000/8000 [==============================] - 1s 166us/step - loss: 0.3425 - accuracy: 0.8597\n",
      "Epoch 33/100\n",
      "8000/8000 [==============================] - 2s 212us/step - loss: 0.3426 - accuracy: 0.8596\n",
      "Epoch 34/100\n",
      "8000/8000 [==============================] - 1s 178us/step - loss: 0.3412 - accuracy: 0.8625\n",
      "Epoch 35/100\n",
      "8000/8000 [==============================] - 1s 165us/step - loss: 0.3431 - accuracy: 0.8608\n",
      "Epoch 36/100\n",
      "8000/8000 [==============================] - 1s 164us/step - loss: 0.3423 - accuracy: 0.8618\n",
      "Epoch 37/100\n",
      "8000/8000 [==============================] - 2s 189us/step - loss: 0.3424 - accuracy: 0.8610\n",
      "Epoch 38/100\n",
      "8000/8000 [==============================] - 2s 193us/step - loss: 0.3428 - accuracy: 0.8587\n",
      "Epoch 39/100\n",
      "8000/8000 [==============================] - 1s 169us/step - loss: 0.3424 - accuracy: 0.8597\n",
      "Epoch 40/100\n",
      "8000/8000 [==============================] - 2s 188us/step - loss: 0.3421 - accuracy: 0.8612\n",
      "Epoch 41/100\n",
      "8000/8000 [==============================] - 1s 166us/step - loss: 0.3430 - accuracy: 0.8595\n",
      "Epoch 42/100\n",
      "8000/8000 [==============================] - 1s 165us/step - loss: 0.3420 - accuracy: 0.8593\n",
      "Epoch 43/100\n",
      "8000/8000 [==============================] - 1s 164us/step - loss: 0.3428 - accuracy: 0.8587\n",
      "Epoch 44/100\n",
      "8000/8000 [==============================] - 1s 166us/step - loss: 0.3416 - accuracy: 0.8599\n",
      "Epoch 45/100\n",
      "8000/8000 [==============================] - 1s 165us/step - loss: 0.3422 - accuracy: 0.8599\n",
      "Epoch 46/100\n",
      "8000/8000 [==============================] - 1s 177us/step - loss: 0.3421 - accuracy: 0.8616\n",
      "Epoch 47/100\n",
      "8000/8000 [==============================] - 2s 193us/step - loss: 0.3427 - accuracy: 0.8587\n",
      "Epoch 48/100\n",
      "8000/8000 [==============================] - 1s 171us/step - loss: 0.3425 - accuracy: 0.8636\n",
      "Epoch 49/100\n",
      "8000/8000 [==============================] - 1s 182us/step - loss: 0.3423 - accuracy: 0.8580\n",
      "Epoch 50/100\n",
      "8000/8000 [==============================] - 1s 167us/step - loss: 0.3421 - accuracy: 0.8602\n",
      "Epoch 51/100\n",
      "8000/8000 [==============================] - ETA: 0s - loss: 0.3417 - accuracy: 0.86 - 1s 169us/step - loss: 0.3423 - accuracy: 0.8599\n",
      "Epoch 52/100\n",
      "8000/8000 [==============================] - 1s 176us/step - loss: 0.3413 - accuracy: 0.8608\n",
      "Epoch 53/100\n",
      "8000/8000 [==============================] - 1s 170us/step - loss: 0.3423 - accuracy: 0.8605\n",
      "Epoch 54/100\n",
      "8000/8000 [==============================] - 1s 175us/step - loss: 0.3418 - accuracy: 0.8604\n",
      "Epoch 55/100\n",
      "8000/8000 [==============================] - 1s 177us/step - loss: 0.3417 - accuracy: 0.8577\n",
      "Epoch 56/100\n",
      "8000/8000 [==============================] - 1s 178us/step - loss: 0.3415 - accuracy: 0.8608\n",
      "Epoch 57/100\n",
      "8000/8000 [==============================] - 1s 178us/step - loss: 0.3419 - accuracy: 0.8609\n",
      "Epoch 58/100\n",
      "8000/8000 [==============================] - 1s 184us/step - loss: 0.3413 - accuracy: 0.8611\n",
      "Epoch 59/100\n",
      "8000/8000 [==============================] - 2s 194us/step - loss: 0.3421 - accuracy: 0.8609\n",
      "Epoch 60/100\n",
      "8000/8000 [==============================] - 1s 176us/step - loss: 0.3416 - accuracy: 0.8599\n",
      "Epoch 61/100\n",
      "8000/8000 [==============================] - 1s 182us/step - loss: 0.3415 - accuracy: 0.8600\n",
      "Epoch 62/100\n",
      "8000/8000 [==============================] - 1s 165us/step - loss: 0.3420 - accuracy: 0.8597\n",
      "Epoch 63/100\n",
      "8000/8000 [==============================] - 1s 186us/step - loss: 0.3414 - accuracy: 0.8609\n",
      "Epoch 64/100\n",
      "8000/8000 [==============================] - 2s 197us/step - loss: 0.3415 - accuracy: 0.8615\n",
      "Epoch 65/100\n",
      "8000/8000 [==============================] - 1s 173us/step - loss: 0.3414 - accuracy: 0.8604\n",
      "Epoch 66/100\n",
      "8000/8000 [==============================] - 1s 168us/step - loss: 0.3419 - accuracy: 0.8619\n",
      "Epoch 67/100\n",
      "8000/8000 [==============================] - 1s 167us/step - loss: 0.3409 - accuracy: 0.8600\n",
      "Epoch 68/100\n",
      "8000/8000 [==============================] - 1s 165us/step - loss: 0.3406 - accuracy: 0.8604\n",
      "Epoch 69/100\n",
      "8000/8000 [==============================] - 1s 166us/step - loss: 0.3407 - accuracy: 0.8610\n",
      "Epoch 70/100\n",
      "8000/8000 [==============================] - 1s 168us/step - loss: 0.3404 - accuracy: 0.8596\n",
      "Epoch 71/100\n",
      "8000/8000 [==============================] - 1s 167us/step - loss: 0.3404 - accuracy: 0.8622\n",
      "Epoch 72/100\n",
      "8000/8000 [==============================] - 1s 166us/step - loss: 0.3394 - accuracy: 0.8611\n",
      "Epoch 73/100\n",
      "8000/8000 [==============================] - 1s 168us/step - loss: 0.3381 - accuracy: 0.8604\n",
      "Epoch 74/100\n",
      "8000/8000 [==============================] - 1s 166us/step - loss: 0.3401 - accuracy: 0.8610\n",
      "Epoch 75/100\n",
      "8000/8000 [==============================] - 1s 164us/step - loss: 0.3392 - accuracy: 0.8580\n",
      "Epoch 76/100\n",
      "8000/8000 [==============================] - 1s 172us/step - loss: 0.3380 - accuracy: 0.8621\n",
      "Epoch 77/100\n",
      "8000/8000 [==============================] - 1s 168us/step - loss: 0.3384 - accuracy: 0.8622\n",
      "Epoch 78/100\n"
     ]
    },
    {
     "name": "stdout",
     "output_type": "stream",
     "text": [
      "8000/8000 [==============================] - 1s 164us/step - loss: 0.3381 - accuracy: 0.8643\n",
      "Epoch 79/100\n",
      "8000/8000 [==============================] - 1s 167us/step - loss: 0.3380 - accuracy: 0.8640\n",
      "Epoch 80/100\n",
      "8000/8000 [==============================] - 1s 170us/step - loss: 0.3371 - accuracy: 0.8636\n",
      "Epoch 81/100\n",
      "8000/8000 [==============================] - 1s 151us/step - loss: 0.3373 - accuracy: 0.8624\n",
      "Epoch 82/100\n",
      "8000/8000 [==============================] - 1s 146us/step - loss: 0.3370 - accuracy: 0.8634\n",
      "Epoch 83/100\n",
      "8000/8000 [==============================] - 1s 148us/step - loss: 0.3373 - accuracy: 0.8608\n",
      "Epoch 84/100\n",
      "8000/8000 [==============================] - 1s 147us/step - loss: 0.3363 - accuracy: 0.8614\n",
      "Epoch 85/100\n",
      "8000/8000 [==============================] - 1s 147us/step - loss: 0.3361 - accuracy: 0.8625\n",
      "Epoch 86/100\n",
      "8000/8000 [==============================] - 1s 147us/step - loss: 0.3359 - accuracy: 0.8634\n",
      "Epoch 87/100\n",
      "8000/8000 [==============================] - 1s 148us/step - loss: 0.3365 - accuracy: 0.8636\n",
      "Epoch 88/100\n",
      "8000/8000 [==============================] - 1s 148us/step - loss: 0.3354 - accuracy: 0.8625\n",
      "Epoch 89/100\n",
      "8000/8000 [==============================] - 1s 150us/step - loss: 0.3356 - accuracy: 0.8616\n",
      "Epoch 90/100\n",
      "8000/8000 [==============================] - 1s 149us/step - loss: 0.3355 - accuracy: 0.8643\n",
      "Epoch 91/100\n",
      "8000/8000 [==============================] - 1s 149us/step - loss: 0.3358 - accuracy: 0.8614\n",
      "Epoch 92/100\n",
      "8000/8000 [==============================] - 1s 147us/step - loss: 0.3346 - accuracy: 0.8630\n",
      "Epoch 93/100\n",
      "8000/8000 [==============================] - 1s 150us/step - loss: 0.3359 - accuracy: 0.8658\n",
      "Epoch 94/100\n",
      "8000/8000 [==============================] - 1s 150us/step - loss: 0.3352 - accuracy: 0.8619\n",
      "Epoch 95/100\n",
      "8000/8000 [==============================] - 1s 149us/step - loss: 0.3345 - accuracy: 0.8624\n",
      "Epoch 96/100\n",
      "8000/8000 [==============================] - 1s 148us/step - loss: 0.3342 - accuracy: 0.8640\n",
      "Epoch 97/100\n",
      "8000/8000 [==============================] - 1s 149us/step - loss: 0.3351 - accuracy: 0.8620\n",
      "Epoch 98/100\n",
      "8000/8000 [==============================] - 1s 149us/step - loss: 0.3343 - accuracy: 0.8618\n",
      "Epoch 99/100\n",
      "8000/8000 [==============================] - 1s 149us/step - loss: 0.3344 - accuracy: 0.8621\n",
      "Epoch 100/100\n",
      "8000/8000 [==============================] - 1s 149us/step - loss: 0.3346 - accuracy: 0.8660\n"
     ]
    },
    {
     "data": {
      "text/plain": [
       "<keras.callbacks.callbacks.History at 0x27bcb7dde80>"
      ]
     },
     "execution_count": 96,
     "metadata": {},
     "output_type": "execute_result"
    }
   ],
   "source": [
    "classifier.fit(X_train,y_train,batch_size=10,nb_epoch=100)"
   ]
  },
  {
   "cell_type": "code",
   "execution_count": 109,
   "metadata": {},
   "outputs": [],
   "source": [
    "y_pred= classifier.predict(X_test)\n",
    "y_pred= (y_pred > 0.5)"
   ]
  },
  {
   "cell_type": "code",
   "execution_count": 110,
   "metadata": {},
   "outputs": [
    {
     "data": {
      "text/plain": [
       "array([[False],\n",
       "       [False],\n",
       "       [False],\n",
       "       [False],\n",
       "       [False],\n",
       "       [ True],\n",
       "       [False],\n",
       "       [False],\n",
       "       [False],\n",
       "       [ True],\n",
       "       [False],\n",
       "       [False],\n",
       "       [False],\n",
       "       [False],\n",
       "       [ True],\n",
       "       [ True],\n",
       "       [False],\n",
       "       [False],\n",
       "       [False],\n",
       "       [False]])"
      ]
     },
     "execution_count": 110,
     "metadata": {},
     "output_type": "execute_result"
    }
   ],
   "source": [
    "y_pred[:20]"
   ]
  },
  {
   "cell_type": "code",
   "execution_count": 111,
   "metadata": {},
   "outputs": [],
   "source": [
    "from sklearn.metrics import confusion_matrix\n",
    "cm= confusion_matrix(y_test,y_pred)"
   ]
  },
  {
   "cell_type": "code",
   "execution_count": 112,
   "metadata": {},
   "outputs": [
    {
     "data": {
      "text/plain": [
       "array([[1497,   98],\n",
       "       [ 190,  215]], dtype=int64)"
      ]
     },
     "execution_count": 112,
     "metadata": {},
     "output_type": "execute_result"
    }
   ],
   "source": [
    "cm"
   ]
  },
  {
   "cell_type": "code",
   "execution_count": 113,
   "metadata": {},
   "outputs": [
    {
     "data": {
      "text/plain": [
       "0.856"
      ]
     },
     "execution_count": 113,
     "metadata": {},
     "output_type": "execute_result"
    }
   ],
   "source": [
    "(1497+215)/2000"
   ]
  },
  {
   "cell_type": "code",
   "execution_count": null,
   "metadata": {},
   "outputs": [],
   "source": []
  }
 ],
 "metadata": {
  "kernelspec": {
   "display_name": "Python 3",
   "language": "python",
   "name": "python3"
  },
  "language_info": {
   "codemirror_mode": {
    "name": "ipython",
    "version": 3
   },
   "file_extension": ".py",
   "mimetype": "text/x-python",
   "name": "python",
   "nbconvert_exporter": "python",
   "pygments_lexer": "ipython3",
   "version": "3.7.3"
  }
 },
 "nbformat": 4,
 "nbformat_minor": 2
}
